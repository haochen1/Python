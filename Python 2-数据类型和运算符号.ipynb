{
 "cells": [
  {
   "cell_type": "markdown",
   "metadata": {},
   "source": [
    "# Python3 基本数据类型"
   ]
  },
  {
   "cell_type": "markdown",
   "metadata": {},
   "source": [
    "Python 中的变量不需要声明。每个变量在使用前都必须赋值，变量赋值以后该变量才会被创建。\n",
    "在 Python 中，变量就是变量，它没有类型，我们所说的\"类型\"是变量所指的内存中对象的类型。\n",
    "等号（=）用来给变量赋值。"
   ]
  },
  {
   "cell_type": "code",
   "execution_count": 1,
   "metadata": {},
   "outputs": [
    {
     "name": "stdout",
     "output_type": "stream",
     "text": [
      "1\n",
      "1.0\n",
      "nihao\n"
     ]
    }
   ],
   "source": [
    "counter = 1          # 整型变量\n",
    "miles   = 1.0       # 浮点型变量\n",
    "name    = \"nihao\"     # 字符串\n",
    " \n",
    "print (counter)\n",
    "print (miles)\n",
    "print (name)"
   ]
  },
  {
   "cell_type": "markdown",
   "metadata": {},
   "source": [
    "# 多个变量赋值"
   ]
  },
  {
   "cell_type": "markdown",
   "metadata": {},
   "source": [
    "Python允许你同时为多个变量赋值。例如："
   ]
  },
  {
   "cell_type": "code",
   "execution_count": null,
   "metadata": {
    "collapsed": true
   },
   "outputs": [],
   "source": [
    "a = b = c = 1"
   ]
  },
  {
   "cell_type": "markdown",
   "metadata": {},
   "source": [
    "以上实例，创建一个整型对象，值为1，三个变量被分配到相同的内存空间上。\n",
    "您也可以为多个对象指定多个变量。例如："
   ]
  },
  {
   "cell_type": "code",
   "execution_count": null,
   "metadata": {
    "collapsed": true
   },
   "outputs": [],
   "source": [
    "a, b, c = 1, 2, \"nihao\""
   ]
  },
  {
   "cell_type": "markdown",
   "metadata": {},
   "source": [
    "# 标准数据类型"
   ]
  },
  {
   "cell_type": "markdown",
   "metadata": {},
   "source": [
    "python3 中有六个标准的数据类型：\n",
    "Number（数字）\n",
    "String（字符串）\n",
    "List（列表）\n",
    "Tuple（元组）\n",
    "Sets（集合）\n",
    "Dictionary（字典）"
   ]
  },
  {
   "cell_type": "markdown",
   "metadata": {},
   "source": [
    "# Number（数字）"
   ]
  },
  {
   "cell_type": "markdown",
   "metadata": {},
   "source": [
    "Python3 支持 int、float、bool、complex（复数）。\n",
    "复数由实数部分和虚数部分构成，可以用a + bj,或者complex(a,b)表示， 复数的实部a和虚部b都是浮点型\n",
    "在Python 3里，只有一种整数类型 int，表示为长整型，没有 python2 中的 Long。\n",
    "像大多数语言一样，数值类型的赋值和计算都是很直观的。\n",
    "内置的 type() 函数可以用来查询变量所指的对象类型。"
   ]
  },
  {
   "cell_type": "code",
   "execution_count": 2,
   "metadata": {},
   "outputs": [
    {
     "name": "stdout",
     "output_type": "stream",
     "text": [
      "<class 'int'> <class 'float'> <class 'bool'> <class 'complex'>\n"
     ]
    }
   ],
   "source": [
    "a, b, c, d = 20, 5.5, True, 4+3j\n",
    "print(type(a), type(b), type(c), type(d))"
   ]
  },
  {
   "cell_type": "markdown",
   "metadata": {},
   "source": [
    "此外还可以用 isinstance 来判断："
   ]
  },
  {
   "cell_type": "code",
   "execution_count": 3,
   "metadata": {},
   "outputs": [
    {
     "data": {
      "text/plain": [
       "True"
      ]
     },
     "execution_count": 3,
     "metadata": {},
     "output_type": "execute_result"
    }
   ],
   "source": [
    "isinstance(a, int)"
   ]
  },
  {
   "cell_type": "markdown",
   "metadata": {},
   "source": [
    "isinstance 和 type 的区别在于：\n",
    "type()不会认为子类是一种父类类型。\n",
    "isinstance()会认为子类是一种父类类型。"
   ]
  },
  {
   "cell_type": "markdown",
   "metadata": {},
   "source": [
    "# 数值运算"
   ]
  },
  {
   "cell_type": "code",
   "execution_count": 8,
   "metadata": {},
   "outputs": [
    {
     "name": "stdout",
     "output_type": "stream",
     "text": [
      "5 + 4=9\n",
      "4.3 - 2=2.3\n",
      "3 * 7=21\n",
      "2 / 4=0.5\n",
      "2 // 4=0\n",
      "17 % 3=2\n",
      "2 ** 5=32\n"
     ]
    }
   ],
   "source": [
    "print(\"5 + 4={}\".format(5 + 4))  # 加法\n",
    "print(\"4.3 - 2={}\".format(4.3 - 2))  # 减法\n",
    "print(\"3 * 7={}\".format(3*7))  # 乘法\n",
    "print(\"2 / 4={}\".format(2/4))  # 除法，得到一个浮点数\n",
    "print(\"2 // 4={}\".format(2//4))  # 除法，得到一个整数\n",
    "print(\"17 % 3={}\".format(17 % 3)) # 取余\n",
    "print(\"2 ** 5={}\".format(2 ** 5)) # 乘方"
   ]
  },
  {
   "cell_type": "markdown",
   "metadata": {},
   "source": [
    "# String（字符串）"
   ]
  },
  {
   "cell_type": "markdown",
   "metadata": {},
   "source": [
    "Python中的字符串用单引号(')或双引号(\")括起来，同时使用反斜杠(\\)转义特殊字符。\n",
    "字符串的截取的语法格式如下：\n",
    "变量[头下标:尾下标]\n",
    "索引值以 0 为开始值，-1 为从末尾的开始位置。\n",
    "加号 (+) 是字符串的连接符， 星号 (*) 表示复制当前字符串，紧跟的数字为复制的次数。实例如下："
   ]
  },
  {
   "cell_type": "code",
   "execution_count": 12,
   "metadata": {},
   "outputs": [
    {
     "name": "stdout",
     "output_type": "stream",
     "text": [
      "nihao\n",
      "niha\n",
      "n\n",
      "hao\n",
      "hao\n",
      "nihaonihao\n",
      "nihaoTEST\n",
      "nho\n"
     ]
    }
   ],
   "source": [
    "str = 'nihao'\n",
    " \n",
    "print (str)          # 输出字符串\n",
    "print (str[0:-1])    # 输出第一个到倒数第二个的所有字符\n",
    "print (str[0])       # 输出字符串第一个字符\n",
    "print (str[2:5])     # 输出从第三个开始到第五个的字符\n",
    "print (str[2:])      # 输出从第三个开始的后的所有字符\n",
    "print (str * 2)      # 输出字符串两次\n",
    "print (str + \"TEST\") # 连接字符串\n",
    "print (str[::2]) # 不指明头尾，但是从头开始隔一个输出一个字符"
   ]
  },
  {
   "cell_type": "markdown",
   "metadata": {},
   "source": [
    "Python 使用反斜杠(\\)转义特殊字符，如果你不想让反斜杠发生转义，可以在字符串前面添加一个 r，表示原始字符串："
   ]
  },
  {
   "cell_type": "code",
   "execution_count": 13,
   "metadata": {},
   "outputs": [
    {
     "name": "stdout",
     "output_type": "stream",
     "text": [
      "cn\n",
      "ihao\n",
      "cn\\nihao\n"
     ]
    }
   ],
   "source": [
    "print('cn\\nihao')\n",
    "print(r'cn\\nihao')"
   ]
  },
  {
   "cell_type": "code",
   "execution_count": null,
   "metadata": {
    "collapsed": true
   },
   "outputs": [],
   "source": [
    "注意，Python 没有单独的字符类型，一个字符就是长度为1的字符串。\n",
    "角标负数表示从后往前数，-1表示最后一个字符。"
   ]
  },
  {
   "cell_type": "code",
   "execution_count": 14,
   "metadata": {},
   "outputs": [
    {
     "name": "stdout",
     "output_type": "stream",
     "text": [
      "n o\n",
      "o n\n"
     ]
    }
   ],
   "source": [
    "print(str[0], str[4])\n",
    "print(str[-1], str[-5])"
   ]
  },
  {
   "cell_type": "markdown",
   "metadata": {},
   "source": [
    "与 C 字符串不同的是，Python 字符串不能被改变。向一个索引位置赋值，比如str[0] = 'm'会导致错误。"
   ]
  },
  {
   "cell_type": "code",
   "execution_count": 15,
   "metadata": {},
   "outputs": [
    {
     "ename": "TypeError",
     "evalue": "'str' object does not support item assignment",
     "output_type": "error",
     "traceback": [
      "\u001b[0;31m---------------------------------------------------------------------------\u001b[0m",
      "\u001b[0;31mTypeError\u001b[0m                                 Traceback (most recent call last)",
      "\u001b[0;32m<ipython-input-15-23b35a151aff>\u001b[0m in \u001b[0;36m<module>\u001b[0;34m()\u001b[0m\n\u001b[0;32m----> 1\u001b[0;31m \u001b[0mstr\u001b[0m\u001b[0;34m[\u001b[0m\u001b[0;36m0\u001b[0m\u001b[0;34m]\u001b[0m \u001b[0;34m=\u001b[0m \u001b[0;34m'm'\u001b[0m\u001b[0;34m\u001b[0m\u001b[0m\n\u001b[0m",
      "\u001b[0;31mTypeError\u001b[0m: 'str' object does not support item assignment"
     ]
    }
   ],
   "source": [
    "str[0] = 'm'"
   ]
  },
  {
   "cell_type": "markdown",
   "metadata": {},
   "source": [
    "# List（列表）"
   ]
  },
  {
   "cell_type": "markdown",
   "metadata": {},
   "source": [
    "List（列表） 是 Python 中使用最频繁的数据类型。\n",
    "列表可以完成大多数集合类的数据结构实现。列表中元素的类型可以不相同，它支持数字，字符串甚至可以包含列表（所谓嵌套）。\n",
    "列表是写在方括号[]之间、用逗号分隔开的元素列表。\n",
    "和字符串一样，列表同样可以被索引和截取，列表被截取后返回一个包含所需元素的新列表。\n",
    "列表截取的语法格式如下：\n",
    "变量[头下标:尾下标]"
   ]
  },
  {
   "cell_type": "markdown",
   "metadata": {},
   "source": [
    "索引值以 0 为开始值，-1 为从末尾的开始位置。\n",
    "加号（+）是列表连接运算符，星号（*）是重复操作。\n",
    "这点和字符串的特点一样"
   ]
  },
  {
   "cell_type": "code",
   "execution_count": 16,
   "metadata": {},
   "outputs": [
    {
     "name": "stdout",
     "output_type": "stream",
     "text": [
      "['ni', 786, 2.23, 'hao', 70.2]\n",
      "ni\n",
      "[786, 2.23]\n",
      "[2.23, 'hao', 70.2]\n",
      "[123, 'nihao', 123, 'nihao']\n",
      "['ni', 786, 2.23, 'hao', 70.2, 123, 'nihao']\n"
     ]
    }
   ],
   "source": [
    "list = [ 'ni', 786 , 2.23, 'hao', 70.2 ]\n",
    "tinylist = [123, 'nihao']\n",
    " \n",
    "print (list)            # 输出完整列表\n",
    "print (list[0])         # 输出列表第一个元素\n",
    "print (list[1:3])       # 从第二个开始输出到第三个元素\n",
    "print (list[2:])        # 输出从第三个元素开始的所有元素\n",
    "print (tinylist * 2)    # 输出两次列表\n",
    "print (list + tinylist) # 连接列表"
   ]
  },
  {
   "cell_type": "markdown",
   "metadata": {},
   "source": [
    "与Python字符串不一样的是，列表中的元素是可以改变的："
   ]
  },
  {
   "cell_type": "code",
   "execution_count": 17,
   "metadata": {},
   "outputs": [
    {
     "name": "stdout",
     "output_type": "stream",
     "text": [
      "[1, 786, 2.23, 'hao', 70.2]\n"
     ]
    }
   ],
   "source": [
    "list[0]=1\n",
    "print(list)"
   ]
  },
  {
   "cell_type": "markdown",
   "metadata": {},
   "source": [
    "List内置了有很多方法，例如append()、pop()等等\n",
    "append():向列尾增加一个元素\n",
    "pop():从列尾删除一个元素\n",
    "List的方法对应了数据结构中的栈stack，后进先出，append=>push,pop=>pop"
   ]
  },
  {
   "cell_type": "code",
   "execution_count": 18,
   "metadata": {},
   "outputs": [
    {
     "name": "stdout",
     "output_type": "stream",
     "text": [
      "[1, 786, 2.23, 'hao']\n",
      "[1, 786, 2.23, 'hao', 'new']\n"
     ]
    }
   ],
   "source": [
    "list.pop()\n",
    "print(list)\n",
    "list.append('new')\n",
    "print(list)"
   ]
  },
  {
   "cell_type": "markdown",
   "metadata": {},
   "source": [
    "# Tuple（元组）"
   ]
  },
  {
   "cell_type": "markdown",
   "metadata": {},
   "source": [
    "元组（tuple）与列表类似，不同之处在于元组的元素不能修改。元组写在小括号()里，元素之间用逗号隔开。"
   ]
  },
  {
   "cell_type": "markdown",
   "metadata": {},
   "source": [
    "其实，可以把字符串看作一种特殊的元组。两者内的元素都在定义后不能修改。\n",
    "string、list和tuple都属于sequence（序列）。\n",
    "\n",
    "虽然tuple的元素不可改变，但它可以包含可变的对象，比如list列表。\n",
    "构造包含 0 个或 1 个元素的元组比较特殊，所以有一些额外的语法规则："
   ]
  },
  {
   "cell_type": "code",
   "execution_count": 19,
   "metadata": {},
   "outputs": [
    {
     "name": "stdout",
     "output_type": "stream",
     "text": [
      "()\n",
      "(20,)\n"
     ]
    }
   ],
   "source": [
    "tup1 = ()    # 空元组\n",
    "print(tup1)\n",
    "tup2 = (20,) # 一个元素，需要在元素后添加逗号\n",
    "print(tup2)"
   ]
  },
  {
   "cell_type": "markdown",
   "metadata": {},
   "source": [
    "# Set（集合）"
   ]
  },
  {
   "cell_type": "markdown",
   "metadata": {},
   "source": [
    "集合（set）是一个无序不重复元素的序列。\n",
    "基本功能是进行成员关系测试和删除重复元素。\n",
    "可以使用大括号 { } 或者 set() 函数创建集合，注意：创建一个空集合必须用 set() 而不是 { }，因为 { } 是用来创建一个空字典。"
   ]
  },
  {
   "cell_type": "code",
   "execution_count": 20,
   "metadata": {},
   "outputs": [
    {
     "name": "stdout",
     "output_type": "stream",
     "text": [
      "{'Jack', 'Rose', 'Tom', 'Mary', 'Jim'}\n",
      "Rose 在集合中\n",
      "{'b', 'c', 'a', 'r', 'd'}\n",
      "{'b', 'd', 'r'}\n",
      "{'c', 'b', 'd', 'l', 'a', 'm', 'z', 'r'}\n",
      "{'c', 'a'}\n",
      "{'l', 'b', 'd', 'm', 'z', 'r'}\n"
     ]
    }
   ],
   "source": [
    "student = {'Tom', 'Jim', 'Mary', 'Tom', 'Jack', 'Rose'}\n",
    "print(student)   # 输出集合，重复的元素被自动去掉\n",
    "# 成员测试\n",
    "if('Rose' in student) :\n",
    "    print('Rose 在集合中')\n",
    "else :\n",
    "    print('Rose 不在集合中')\n",
    "# set可以进行集合运算\n",
    "a = set('abracadabra')\n",
    "b = set('alacazam')\n",
    " \n",
    "print(a)\n",
    " \n",
    "print(a - b)     # a和b的差集\n",
    " \n",
    "print(a | b)     # a和b的并集\n",
    " \n",
    "print(a & b)     # a和b的交集\n",
    " \n",
    "print(a ^ b)     # a和b中不同时存在的元素"
   ]
  },
  {
   "cell_type": "markdown",
   "metadata": {},
   "source": [
    "# Dictionary（字典）"
   ]
  },
  {
   "cell_type": "markdown",
   "metadata": {},
   "source": [
    "字典（dictionary）是Python中另一个非常有用的内置数据类型。\n",
    "列表是有序的对象结合，字典是无序的对象集合。两者之间的区别在于：字典当中的元素是通过键来存取的，而不是通过偏移存取。\n",
    "字典是一种映射类型，字典用\"{ }\"标识，它是一个无序的键(key) : 值(value)对集合。\n",
    "键(key)必须使用不可变类型。\n",
    "在同一个字典中，键(key)必须是唯一的。"
   ]
  },
  {
   "cell_type": "code",
   "execution_count": 21,
   "metadata": {},
   "outputs": [
    {
     "name": "stdout",
     "output_type": "stream",
     "text": [
      "1 - 菜鸟教程\n",
      "2 - 菜鸟工具\n",
      "{'site': 'www.runoob.com', 'name': 'runoob', 'code': 1}\n",
      "dict_keys(['site', 'name', 'code'])\n",
      "dict_values(['www.runoob.com', 'runoob', 1])\n"
     ]
    }
   ],
   "source": [
    "dict = {}\n",
    "dict['one'] = \"1 - 菜鸟教程\"\n",
    "dict[2]     = \"2 - 菜鸟工具\"\n",
    " \n",
    "tinydict = {'name': 'runoob','code':1, 'site': 'www.runoob.com'}\n",
    "\n",
    "print (dict['one'])       # 输出键为 'one' 的值\n",
    "print (dict[2])           # 输出键为 2 的值\n",
    "print (tinydict)          # 输出完整的字典\n",
    "print (tinydict.keys())   # 输出所有键\n",
    "print (tinydict.values()) # 输出所有值 "
   ]
  },
  {
   "cell_type": "markdown",
   "metadata": {},
   "source": [
    "# Python比较运算符"
   ]
  },
  {
   "cell_type": "raw",
   "metadata": {},
   "source": [
    "==  等于 - 比较对象是否相等\n",
    "!=\t不等于 - 比较两个对象是否不相等\t\n",
    ">\t大于\n",
    "<   小于\n",
    ">=  大于等于\n",
    "<=  小于等于"
   ]
  },
  {
   "cell_type": "markdown",
   "metadata": {},
   "source": [
    "# Python赋值运算符"
   ]
  },
  {
   "cell_type": "raw",
   "metadata": {},
   "source": [
    "=   简单的赋值运算符\t\n",
    "+=  加法赋值运算符\t\n",
    "-=\t减法赋值运算符\t\n",
    "*=\t乘法赋值运算符\t\n",
    "/=\t除法赋值运算符\t\n",
    "%=\t取模赋值运算符\t\n",
    "**= 幂赋值运算符\t\n",
    "//=\t取整除赋值运算符\t"
   ]
  },
  {
   "cell_type": "markdown",
   "metadata": {},
   "source": [
    "# Python位运算符"
   ]
  },
  {
   "cell_type": "raw",
   "metadata": {},
   "source": [
    "&  按位与运算符：参与运算的两个值,如果两个相应位都为1,则该位的结果为1,否则为0\t\n",
    "|  按位或运算符：只要对应的二个二进位有一个为1时，结果位就为1。\n",
    "^  按位异或运算符：当两对应的二进位相异时，结果为1\t\n",
    "~  按位取反运算符：对数据的每个二进制位取反,即把1变为0,把0变为1。~x 类似于 -x-1\t\n",
    "<< 左移动运算符：运算数的各二进位全部左移若干位，由\"<<\"右边的数指定移动的位数，高位丢弃，低位补0。\t\n",
    ">> 右移动运算符：把\">>\"左边的运算数的各二进位全部右移若干位，\">>\"右边的数指定移动的位数\t"
   ]
  },
  {
   "cell_type": "markdown",
   "metadata": {},
   "source": [
    "# Python逻辑运算符"
   ]
  },
  {
   "cell_type": "raw",
   "metadata": {},
   "source": [
    "and \"与\" - 如果 x 为 False，x and y 返回 False，否则它返回 y 的计算值\n",
    "or  \"或\" - 如果 x 是 True，它返回 x 的值，否则它返回 y 的计算值\n",
    "not \"非\" - 如果 x 为 True，返回 False 。如果 x 为 False，它返回 True。"
   ]
  },
  {
   "cell_type": "markdown",
   "metadata": {},
   "source": [
    "# Python成员运算符"
   ]
  },
  {
   "cell_type": "raw",
   "metadata": {},
   "source": [
    "in  x 在 y 序列中 , 如果 x 在 y 序列中返回 True。\n",
    "not in  x 不在 y 序列中 , 如果 x 不在 y 序列中返回 True。"
   ]
  },
  {
   "cell_type": "markdown",
   "metadata": {},
   "source": [
    "# Python身份运算符"
   ]
  },
  {
   "cell_type": "raw",
   "metadata": {},
   "source": [
    "is  is 是判断两个标识符是不是引用自一个对象\n",
    "is not\tis not 是判断两个标识符是不是引用自不同对象\t"
   ]
  },
  {
   "cell_type": "raw",
   "metadata": {},
   "source": [
    "is 与 == 区别：\n",
    "is 用于判断两个变量引用对象是否为同一个， == 用于判断引用变量的值是否相等。"
   ]
  },
  {
   "cell_type": "code",
   "execution_count": 24,
   "metadata": {},
   "outputs": [
    {
     "name": "stdout",
     "output_type": "stream",
     "text": [
      "True\n",
      "True\n"
     ]
    }
   ],
   "source": [
    "a = [1, 2, 3]\n",
    "b = a\n",
    "print(b is a) \n",
    "print(b == a)"
   ]
  },
  {
   "cell_type": "code",
   "execution_count": 25,
   "metadata": {},
   "outputs": [
    {
     "name": "stdout",
     "output_type": "stream",
     "text": [
      "False\n",
      "True\n"
     ]
    }
   ],
   "source": [
    "b = a[:]\n",
    "print(b is a)\n",
    "print(b == a)"
   ]
  }
 ],
 "metadata": {
  "kernelspec": {
   "display_name": "Python 3",
   "language": "python",
   "name": "python3"
  },
  "language_info": {
   "codemirror_mode": {
    "name": "ipython",
    "version": 3
   },
   "file_extension": ".py",
   "mimetype": "text/x-python",
   "name": "python",
   "nbconvert_exporter": "python",
   "pygments_lexer": "ipython3",
   "version": "3.5.4"
  }
 },
 "nbformat": 4,
 "nbformat_minor": 2
}
